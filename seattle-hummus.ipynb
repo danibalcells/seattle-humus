{
 "cells": [
  {
   "cell_type": "code",
   "execution_count": 7,
   "id": "01baedf9",
   "metadata": {},
   "outputs": [
    {
     "name": "stdout",
     "output_type": "stream",
     "text": [
      "carmenyam61@gmail.com Tacoma-Hummus-701\n",
      "Robots:\n",
      "Name: My Litter Airport, Model: Litter-Robot 4, Serial: LR4C869876, id: be4629258490bacf3687d03c8642e3f0c8fbf05d004fdf3b53a1a7a7bf15242f\n",
      "[Activity(timestamp=datetime.datetime(2025, 8, 21, 1, 30, 8, tzinfo=datetime.timezone.utc), action=<LitterBoxStatus.CLEAN_CYCLE_COMPLETE: 'CCC'>), Activity(timestamp=datetime.datetime(2025, 8, 21, 1, 27, 4, tzinfo=datetime.timezone.utc), action=<LitterBoxStatus.CAT_SENSOR_INTERRUPTED: 'CSI'>), Activity(timestamp=datetime.datetime(2025, 8, 21, 1, 26, 43, tzinfo=datetime.timezone.utc), action='Clean Cycles: 30'), Activity(timestamp=datetime.datetime(2025, 8, 21, 1, 26, 43, tzinfo=datetime.timezone.utc), action=<LitterBoxStatus.CLEAN_CYCLE: 'CCP'>), Activity(timestamp=datetime.datetime(2025, 8, 21, 1, 11, 43, tzinfo=datetime.timezone.utc), action='Pet Weight Recorded: 12.31 lbs'), Activity(timestamp=datetime.datetime(2025, 8, 21, 1, 8, 53, tzinfo=datetime.timezone.utc), action=<LitterBoxStatus.CAT_DETECTED: 'CD'>), Activity(timestamp=datetime.datetime(2025, 8, 20, 23, 4, 13, tzinfo=datetime.timezone.utc), action=<LitterBoxStatus.CLEAN_CYCLE_COMPLETE: 'CCC'>), Activity(timestamp=datetime.datetime(2025, 8, 20, 23, 0, 31, tzinfo=datetime.timezone.utc), action=<LitterBoxStatus.CAT_SENSOR_INTERRUPTED: 'CSI'>), Activity(timestamp=datetime.datetime(2025, 8, 20, 23, 0, 11, tzinfo=datetime.timezone.utc), action='Clean Cycles: 29'), Activity(timestamp=datetime.datetime(2025, 8, 20, 23, 0, 11, tzinfo=datetime.timezone.utc), action=<LitterBoxStatus.CLEAN_CYCLE: 'CCP'>), Activity(timestamp=datetime.datetime(2025, 8, 20, 22, 45, 11, tzinfo=datetime.timezone.utc), action='Pet Weight Recorded: 5.89 lbs'), Activity(timestamp=datetime.datetime(2025, 8, 20, 22, 44, 58, tzinfo=datetime.timezone.utc), action=<LitterBoxStatus.CAT_DETECTED: 'CD'>), Activity(timestamp=datetime.datetime(2025, 8, 20, 13, 38, 48, tzinfo=datetime.timezone.utc), action=<LitterBoxStatus.CLEAN_CYCLE_COMPLETE: 'CCC'>), Activity(timestamp=datetime.datetime(2025, 8, 20, 13, 35, 43, tzinfo=datetime.timezone.utc), action=<LitterBoxStatus.CAT_SENSOR_INTERRUPTED: 'CSI'>), Activity(timestamp=datetime.datetime(2025, 8, 20, 13, 35, 24, tzinfo=datetime.timezone.utc), action=<LitterBoxStatus.CLEAN_CYCLE: 'CCP'>), Activity(timestamp=datetime.datetime(2025, 8, 20, 13, 35, 24, tzinfo=datetime.timezone.utc), action='Clean Cycles: 28'), Activity(timestamp=datetime.datetime(2025, 8, 20, 13, 20, 22, tzinfo=datetime.timezone.utc), action='Pet Weight Recorded: 12.23 lbs'), Activity(timestamp=datetime.datetime(2025, 8, 20, 13, 16, 20, tzinfo=datetime.timezone.utc), action=<LitterBoxStatus.CAT_DETECTED: 'CD'>), Activity(timestamp=datetime.datetime(2025, 8, 20, 11, 6, 46, tzinfo=datetime.timezone.utc), action=<LitterBoxStatus.CLEAN_CYCLE_COMPLETE: 'CCC'>), Activity(timestamp=datetime.datetime(2025, 8, 20, 11, 3, 31, tzinfo=datetime.timezone.utc), action=<LitterBoxStatus.CAT_SENSOR_INTERRUPTED: 'CSI'>), Activity(timestamp=datetime.datetime(2025, 8, 20, 11, 3, 10, tzinfo=datetime.timezone.utc), action='Clean Cycles: 27'), Activity(timestamp=datetime.datetime(2025, 8, 20, 11, 3, 10, tzinfo=datetime.timezone.utc), action=<LitterBoxStatus.CLEAN_CYCLE: 'CCP'>), Activity(timestamp=datetime.datetime(2025, 8, 20, 10, 48, 10, tzinfo=datetime.timezone.utc), action='Pet Weight Recorded: 14.08 lbs'), Activity(timestamp=datetime.datetime(2025, 8, 20, 10, 26, 55, tzinfo=datetime.timezone.utc), action='Pet Weight Recorded: 14.18 lbs'), Activity(timestamp=datetime.datetime(2025, 8, 20, 10, 24, 53, tzinfo=datetime.timezone.utc), action=<LitterBoxStatus.CAT_DETECTED: 'CD'>), Activity(timestamp=datetime.datetime(2025, 8, 20, 5, 4, 9, tzinfo=datetime.timezone.utc), action=<LitterBoxStatus.CLEAN_CYCLE_COMPLETE: 'CCC'>), Activity(timestamp=datetime.datetime(2025, 8, 20, 5, 1, 4, tzinfo=datetime.timezone.utc), action=<LitterBoxStatus.CAT_SENSOR_INTERRUPTED: 'CSI'>), Activity(timestamp=datetime.datetime(2025, 8, 20, 5, 0, 43, tzinfo=datetime.timezone.utc), action='Clean Cycles: 26'), Activity(timestamp=datetime.datetime(2025, 8, 20, 5, 0, 43, tzinfo=datetime.timezone.utc), action=<LitterBoxStatus.CLEAN_CYCLE: 'CCP'>), Activity(timestamp=datetime.datetime(2025, 8, 20, 4, 45, 43, tzinfo=datetime.timezone.utc), action='Pet Weight Recorded: 14.03 lbs'), Activity(timestamp=datetime.datetime(2025, 8, 20, 4, 39, tzinfo=datetime.timezone.utc), action='Pet Weight Recorded: 14 lbs'), Activity(timestamp=datetime.datetime(2025, 8, 20, 4, 27, 27, tzinfo=datetime.timezone.utc), action='Pet Weight Recorded: 14.01 lbs'), Activity(timestamp=datetime.datetime(2025, 8, 20, 4, 25, 8, tzinfo=datetime.timezone.utc), action='Pet Weight Recorded: 5.88 lbs'), Activity(timestamp=datetime.datetime(2025, 8, 20, 4, 24, 35, tzinfo=datetime.timezone.utc), action=<LitterBoxStatus.CAT_DETECTED: 'CD'>), Activity(timestamp=datetime.datetime(2025, 8, 20, 3, 51, 14, tzinfo=datetime.timezone.utc), action=<LitterBoxStatus.CLEAN_CYCLE_COMPLETE: 'CCC'>), Activity(timestamp=datetime.datetime(2025, 8, 20, 3, 48, 7, tzinfo=datetime.timezone.utc), action=<LitterBoxStatus.CAT_SENSOR_INTERRUPTED: 'CSI'>), Activity(timestamp=datetime.datetime(2025, 8, 20, 3, 47, 48, tzinfo=datetime.timezone.utc), action=<LitterBoxStatus.CLEAN_CYCLE: 'CCP'>), Activity(timestamp=datetime.datetime(2025, 8, 20, 3, 47, 48, tzinfo=datetime.timezone.utc), action='Clean Cycles: 25'), Activity(timestamp=datetime.datetime(2025, 8, 20, 3, 32, 48, tzinfo=datetime.timezone.utc), action='Pet Weight Recorded: 14.13 lbs'), Activity(timestamp=datetime.datetime(2025, 8, 20, 3, 30, 45, tzinfo=datetime.timezone.utc), action=<LitterBoxStatus.CAT_DETECTED: 'CD'>), Activity(timestamp=datetime.datetime(2025, 8, 20, 3, 30, 44, tzinfo=datetime.timezone.utc), action=<LitterBoxStatus.CAT_DETECTED: 'CD'>), Activity(timestamp=datetime.datetime(2025, 8, 19, 23, 32, 30, tzinfo=datetime.timezone.utc), action=<LitterBoxStatus.CLEAN_CYCLE_COMPLETE: 'CCC'>), Activity(timestamp=datetime.datetime(2025, 8, 19, 23, 29, 21, tzinfo=datetime.timezone.utc), action=<LitterBoxStatus.CAT_SENSOR_INTERRUPTED: 'CSI'>), Activity(timestamp=datetime.datetime(2025, 8, 19, 23, 29, 5, tzinfo=datetime.timezone.utc), action='Clean Cycles: 24'), Activity(timestamp=datetime.datetime(2025, 8, 19, 23, 29, 5, tzinfo=datetime.timezone.utc), action=<LitterBoxStatus.CLEAN_CYCLE: 'CCP'>), Activity(timestamp=datetime.datetime(2025, 8, 19, 23, 8, 19, tzinfo=datetime.timezone.utc), action='Pet Weight Recorded: 14.01 lbs'), Activity(timestamp=datetime.datetime(2025, 8, 19, 23, 5, 45, tzinfo=datetime.timezone.utc), action='Pet Weight Recorded: 12.06 lbs'), Activity(timestamp=datetime.datetime(2025, 8, 19, 23, 3, 12, tzinfo=datetime.timezone.utc), action='Pet Weight Recorded: 4.36 lbs'), Activity(timestamp=datetime.datetime(2025, 8, 19, 23, 2, 52, tzinfo=datetime.timezone.utc), action=<LitterBoxStatus.CAT_DETECTED: 'CD'>), Activity(timestamp=datetime.datetime(2025, 8, 19, 14, 15, 9, tzinfo=datetime.timezone.utc), action=<LitterBoxStatus.CLEAN_CYCLE_COMPLETE: 'CCC'>), Activity(timestamp=datetime.datetime(2025, 8, 19, 14, 12, 4, tzinfo=datetime.timezone.utc), action=<LitterBoxStatus.CAT_SENSOR_INTERRUPTED: 'CSI'>), Activity(timestamp=datetime.datetime(2025, 8, 19, 14, 11, 44, tzinfo=datetime.timezone.utc), action=<LitterBoxStatus.CLEAN_CYCLE: 'CCP'>), Activity(timestamp=datetime.datetime(2025, 8, 19, 14, 11, 43, tzinfo=datetime.timezone.utc), action='Clean Cycles: 23'), Activity(timestamp=datetime.datetime(2025, 8, 19, 13, 56, 41, tzinfo=datetime.timezone.utc), action='Pet Weight Recorded: 14.21 lbs'), Activity(timestamp=datetime.datetime(2025, 8, 19, 13, 53, 47, tzinfo=datetime.timezone.utc), action=<LitterBoxStatus.CAT_DETECTED: 'CD'>), Activity(timestamp=datetime.datetime(2025, 8, 19, 9, 55, 32, tzinfo=datetime.timezone.utc), action=<LitterBoxStatus.CLEAN_CYCLE_COMPLETE: 'CCC'>), Activity(timestamp=datetime.datetime(2025, 8, 19, 9, 52, 23, tzinfo=datetime.timezone.utc), action=<LitterBoxStatus.CAT_SENSOR_INTERRUPTED: 'CSI'>), Activity(timestamp=datetime.datetime(2025, 8, 19, 9, 52, 6, tzinfo=datetime.timezone.utc), action='Clean Cycles: 22'), Activity(timestamp=datetime.datetime(2025, 8, 19, 9, 52, 6, tzinfo=datetime.timezone.utc), action=<LitterBoxStatus.CLEAN_CYCLE: 'CCP'>), Activity(timestamp=datetime.datetime(2025, 8, 19, 9, 37, 6, tzinfo=datetime.timezone.utc), action='Pet Weight Recorded: 14.24 lbs'), Activity(timestamp=datetime.datetime(2025, 8, 19, 9, 31, 55, tzinfo=datetime.timezone.utc), action='Pet Weight Recorded: 3.94 lbs'), Activity(timestamp=datetime.datetime(2025, 8, 19, 9, 31, 5, tzinfo=datetime.timezone.utc), action='Pet Weight Recorded: 12.64 lbs'), Activity(timestamp=datetime.datetime(2025, 8, 19, 9, 29, 4, tzinfo=datetime.timezone.utc), action=<LitterBoxStatus.CAT_DETECTED: 'CD'>), Activity(timestamp=datetime.datetime(2025, 8, 19, 4, 16, 7, tzinfo=datetime.timezone.utc), action=<LitterBoxStatus.CLEAN_CYCLE_COMPLETE: 'CCC'>), Activity(timestamp=datetime.datetime(2025, 8, 19, 4, 13, 2, tzinfo=datetime.timezone.utc), action=<LitterBoxStatus.CAT_SENSOR_INTERRUPTED: 'CSI'>), Activity(timestamp=datetime.datetime(2025, 8, 19, 4, 12, 41, tzinfo=datetime.timezone.utc), action=<LitterBoxStatus.CLEAN_CYCLE: 'CCP'>), Activity(timestamp=datetime.datetime(2025, 8, 19, 4, 12, 41, tzinfo=datetime.timezone.utc), action='Clean Cycles: 21'), Activity(timestamp=datetime.datetime(2025, 8, 19, 3, 50, 11, tzinfo=datetime.timezone.utc), action=<LitterBoxStatus.CAT_DETECTED: 'CD'>), Activity(timestamp=datetime.datetime(2025, 8, 19, 3, 49, 48, tzinfo=datetime.timezone.utc), action=<LitterBoxStatus.CLEAN_CYCLE_COMPLETE: 'CCC'>), Activity(timestamp=datetime.datetime(2025, 8, 19, 3, 46, 49, tzinfo=datetime.timezone.utc), action=<LitterBoxStatus.CAT_SENSOR_INTERRUPTED: 'CSI'>), Activity(timestamp=datetime.datetime(2025, 8, 19, 3, 46, 26, tzinfo=datetime.timezone.utc), action=<LitterBoxStatus.CLEAN_CYCLE: 'CCP'>), Activity(timestamp=datetime.datetime(2025, 8, 19, 3, 46, 26, tzinfo=datetime.timezone.utc), action='Clean Cycles: 20'), Activity(timestamp=datetime.datetime(2025, 8, 19, 3, 46, 17, tzinfo=datetime.timezone.utc), action=<LitterBoxStatus.CLEAN_CYCLE_COMPLETE: 'CCC'>), Activity(timestamp=datetime.datetime(2025, 8, 19, 3, 45, 13, tzinfo=datetime.timezone.utc), action=<LitterBoxStatus.CAT_SENSOR_INTERRUPTED: 'CSI'>), Activity(timestamp=datetime.datetime(2025, 8, 19, 3, 44, 53, tzinfo=datetime.timezone.utc), action=<LitterBoxStatus.CAT_SENSOR_INTERRUPTED: 'CSI'>), Activity(timestamp=datetime.datetime(2025, 8, 19, 3, 44, 18, tzinfo=datetime.timezone.utc), action=<LitterBoxStatus.CAT_SENSOR_INTERRUPTED: 'CSI'>)]\n"
     ]
    }
   ],
   "source": [
    "import os\n",
    "\n",
    "from dotenv import load_dotenv\n",
    "from pylitterbot import Account\n",
    "\n",
    "\n",
    "load_dotenv()\n",
    "\n",
    "# Set email and password for initial authentication.\n",
    "username = os.getenv(\"LITTERROBOT_USERNAME\")\n",
    "password = os.getenv(\"LITTERROBOT_PASSWORD\")\n",
    "print(username, password)\n",
    "\n",
    "account = Account()\n",
    "\n",
    "try:\n",
    "    # Connect to the API and load robots.\n",
    "    await account.connect(username=username, password=password, load_robots=True)\n",
    "\n",
    "    # Print robots associated with account.\n",
    "    print(\"Robots:\")\n",
    "    for robot in account.robots:\n",
    "        print(robot)\n",
    "        history = await robot.get_activity_history()\n",
    "        print(history)\n",
    "finally:\n",
    "    # Disconnect from the API.\n",
    "    await account.disconnect()"
   ]
  },
  {
   "cell_type": "code",
   "execution_count": 16,
   "id": "c50369b9",
   "metadata": {},
   "outputs": [
    {
     "name": "stdout",
     "output_type": "stream",
     "text": [
      "Clean Cycles: 30\n",
      "Pet Weight Recorded: 12.31 lbs\n",
      "Clean Cycles: 29\n",
      "Pet Weight Recorded: 5.89 lbs\n",
      "Clean Cycles: 28\n",
      "Pet Weight Recorded: 12.23 lbs\n",
      "Clean Cycles: 27\n",
      "Pet Weight Recorded: 14.08 lbs\n",
      "Pet Weight Recorded: 14.18 lbs\n",
      "Clean Cycles: 26\n",
      "Pet Weight Recorded: 14.03 lbs\n",
      "Pet Weight Recorded: 14 lbs\n",
      "Pet Weight Recorded: 14.01 lbs\n",
      "Pet Weight Recorded: 5.88 lbs\n",
      "Clean Cycles: 25\n",
      "Pet Weight Recorded: 14.13 lbs\n",
      "Clean Cycles: 24\n",
      "Pet Weight Recorded: 14.01 lbs\n",
      "Pet Weight Recorded: 12.06 lbs\n",
      "Pet Weight Recorded: 4.36 lbs\n",
      "Clean Cycles: 23\n",
      "Pet Weight Recorded: 14.21 lbs\n",
      "Clean Cycles: 22\n",
      "Pet Weight Recorded: 14.24 lbs\n",
      "Pet Weight Recorded: 3.94 lbs\n",
      "Pet Weight Recorded: 12.64 lbs\n",
      "Clean Cycles: 21\n",
      "Clean Cycles: 20\n"
     ]
    }
   ],
   "source": [
    "from pylitterbot.activity import Activity\n",
    "from pylitterbot.enums import LitterBoxStatus\n",
    "\n",
    "for event in history:\n",
    "    if type(event.action) == str:\n",
    "        print(event.action)\n",
    "    "
   ]
  },
  {
   "cell_type": "code",
   "execution_count": null,
   "id": "d4843b75",
   "metadata": {},
   "outputs": [],
   "source": []
  }
 ],
 "metadata": {
  "kernelspec": {
   "display_name": ".venv",
   "language": "python",
   "name": "python3"
  },
  "language_info": {
   "codemirror_mode": {
    "name": "ipython",
    "version": 3
   },
   "file_extension": ".py",
   "mimetype": "text/x-python",
   "name": "python",
   "nbconvert_exporter": "python",
   "pygments_lexer": "ipython3",
   "version": "3.11.6"
  }
 },
 "nbformat": 4,
 "nbformat_minor": 5
}
